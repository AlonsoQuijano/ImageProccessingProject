{
 "cells": [
  {
   "cell_type": "markdown",
   "metadata": {
    "toc": true
   },
   "source": [
    "<h1>Table of Contents<span class=\"tocSkip\"></span></h1>\n",
    "<div class=\"toc\"><ul class=\"toc-item\"></ul></div>"
   ]
  },
  {
   "cell_type": "markdown",
   "metadata": {},
   "source": [
    "Prepare depth image sample to  "
   ]
  },
  {
   "cell_type": "code",
   "execution_count": 1,
   "metadata": {},
   "outputs": [],
   "source": [
    "import numpy as np\n",
    "import matplotlib.pyplot as plt"
   ]
  },
  {
   "cell_type": "code",
   "execution_count": 2,
   "metadata": {},
   "outputs": [],
   "source": [
    "K = np.array([[400, 0, 960], \n",
    "              [0, 400, 540], \n",
    "              [0, 0, 1]])\n",
    "K_inv =  np.array([[1 / K[0, 0], 0, -K[0, 2] / K[0, 0]], \n",
    "                   [0, 1 / K[1, 1], -K[1, 2] / K[1, 1]], \n",
    "                   [0, 0, 1]])\n",
    "img_size = (1080, 1920)\n",
    "camera_pose = np.array([0, 0, 1.5])\n",
    "camera_roll = np.pi / 18\n",
    "camera_rotation = np.array([[1, 0, 0], \n",
    "                            [0, np.cos(camera_roll), -np.sin(camera_roll)], \n",
    "                            [0, np.sin(camera_roll), np.cos(camera_roll)]])\n",
    "optical2base = np.array([[0, 0, 1], \n",
    "                         [-1, 0, 0],  \n",
    "                         [0, -1, 0]])\n",
    "\n",
    "max_depth = 40\n",
    "\n",
    "def transform_cam2base_ray(pt):\n",
    "    return optical2base @ camera_rotation.T @ K_inv @ pt "
   ]
  },
  {
   "cell_type": "code",
   "execution_count": 3,
   "metadata": {},
   "outputs": [],
   "source": [
    "result_depth_image = np.zeros(img_size, dtype=np.uint16)"
   ]
  },
  {
   "cell_type": "code",
   "execution_count": 4,
   "metadata": {},
   "outputs": [
    {
     "data": {
      "text/plain": [
       "<matplotlib.image.AxesImage at 0x7f3ef870cf98>"
      ]
     },
     "execution_count": 4,
     "metadata": {},
     "output_type": "execute_result"
    },
    {
     "data": {
      "image/png": "[encoded data removed]",
      "text/plain": [
       "<Figure size 432x288 with 1 Axes>"
      ]
     },
     "metadata": {
      "needs_background": "light"
     },
     "output_type": "display_data"
    }
   ],
   "source": [
    "plt.imshow(result_depth_image)"
   ]
  },
  {
   "cell_type": "markdown",
   "metadata": {},
   "source": [
    "# Sidewalk"
   ]
  },
  {
   "cell_type": "code",
   "execution_count": 5,
   "metadata": {},
   "outputs": [],
   "source": [
    "sidewalk_height = 0.15 # GOST sidewalk height is 15 cm\n",
    "road_half_width = 2 * 3.75\n",
    "\n",
    "sidewalk_depth_image = np.zeros(img_size, dtype=np.uint16)\n",
    "\n",
    "def left_sidewalk_check(pt):\n",
    "    return (pt[1] > road_half_width)\n",
    "\n",
    "def right_sidewalk_check(pt):\n",
    "    return (pt[1] < -road_half_width)\n",
    "\n",
    "for i in range(img_size[0]):\n",
    "    for j in range(img_size[1]):\n",
    "        ray = transform_cam2base_ray(np.array([j, i, 1.]))\n",
    "        depth = (camera_pose[2] - sidewalk_height) / (-ray[2])\n",
    "        base_pt = camera_pose + ray * depth\n",
    "        if not left_sidewalk_check(base_pt):\n",
    "            break\n",
    "        if depth > max_depth or depth < 0:\n",
    "            continue\n",
    "        sidewalk_depth_image[i, j] = round(depth * 1000)\n",
    "        \n",
    "    for j in range(img_size[1] -1, -1, -1):\n",
    "        ray = transform_cam2base_ray(np.array([j, i, 1.]))\n",
    "        depth = (camera_pose[2] - sidewalk_height) / (-ray[2])\n",
    "        base_pt = camera_pose + ray * depth\n",
    "        if not right_sidewalk_check(base_pt):\n",
    "            break\n",
    "        if depth > max_depth or depth < 0:\n",
    "            continue\n",
    "        sidewalk_depth_image [i, j] = round(depth * 1000)"
   ]
  },
  {
   "cell_type": "code",
   "execution_count": 6,
   "metadata": {},
   "outputs": [
    {
     "data": {
      "text/plain": [
       "<matplotlib.image.AxesImage at 0x7f3ef01a9470>"
      ]
     },
     "execution_count": 6,
     "metadata": {},
     "output_type": "execute_result"
    },
    {
     "data": {
      "image/png": "[encoded data removed]",
      "text/plain": [
       "<Figure size 432x288 with 1 Axes>"
      ]
     },
     "metadata": {
      "needs_background": "light"
     },
     "output_type": "display_data"
    }
   ],
   "source": [
    "plt.imshow(sidewalk_depth_image)"
   ]
  },
  {
   "cell_type": "markdown",
   "metadata": {},
   "source": [
    "# Road"
   ]
  },
  {
   "cell_type": "code",
   "execution_count": 7,
   "metadata": {},
   "outputs": [],
   "source": [
    "def road_check(pt):\n",
    "    return (np.abs(pt[1]) < 2 * 3.75)\n",
    "\n",
    "road_depth_image = np.zeros(img_size, dtype=np.uint16)\n",
    "\n",
    "for i in range(img_size[0]):\n",
    "    for j in range(img_size[1]):\n",
    "        ray = transform_cam2base_ray(np.array([j, i, 1.]))\n",
    "        depth = (camera_pose[2]) / (-ray[2])\n",
    "        base_pt = camera_pose + ray * depth\n",
    "        if not road_check(base_pt) or depth > max_depth or depth < 0:\n",
    "            continue\n",
    "        road_depth_image[i, j] = round(depth * 1000)"
   ]
  },
  {
   "cell_type": "code",
   "execution_count": 8,
   "metadata": {},
   "outputs": [
    {
     "data": {
      "text/plain": [
       "<matplotlib.image.AxesImage at 0x7f3ef018be48>"
      ]
     },
     "execution_count": 8,
     "metadata": {},
     "output_type": "execute_result"
    },
    {
     "data": {
      "image/png": "[encoded data removed]",
      "text/plain": [
       "<Figure size 432x288 with 1 Axes>"
      ]
     },
     "metadata": {
      "needs_background": "light"
     },
     "output_type": "display_data"
    }
   ],
   "source": [
    "plt.imshow(road_depth_image)"
   ]
  },
  {
   "cell_type": "markdown",
   "metadata": {},
   "source": [
    "# Road edges"
   ]
  },
  {
   "cell_type": "code",
   "execution_count": 9,
   "metadata": {},
   "outputs": [
    {
     "name": "stderr",
     "output_type": "stream",
     "text": [
      "/home/mikhail/.local/lib/python3.6/site-packages/ipykernel_launcher.py:13: RuntimeWarning: divide by zero encountered in double_scalars\n",
      "  del sys.path[0]\n",
      "/home/mikhail/.local/lib/python3.6/site-packages/ipykernel_launcher.py:14: RuntimeWarning: invalid value encountered in multiply\n",
      "  \n"
     ]
    }
   ],
   "source": [
    "def edge_check(pt):\n",
    "    if (pt[2] > sidewalk_height):\n",
    "        return 1\n",
    "    if (pt[2] < 0):\n",
    "        return -1\n",
    "    return 0\n",
    "\n",
    "edges_depth_image = np.zeros(img_size, dtype=np.uint16)\n",
    "\n",
    "for j in range(img_size[1]):\n",
    "    for i in range(img_size[0] -1, -1, -1):\n",
    "        ray = transform_cam2base_ray(np.array([j, i, 1.]))\n",
    "        depth = road_half_width / np.abs(ray[1])\n",
    "        base_pt = camera_pose + ray * depth\n",
    "        road_check_res = edge_check(base_pt)\n",
    "        if road_check_res == -1 or depth > max_depth or depth < 0:\n",
    "            continue\n",
    "        if road_check_res == 1:\n",
    "            break\n",
    "        edges_depth_image[i, j] = round(depth * 1000)"
   ]
  },
  {
   "cell_type": "code",
   "execution_count": 10,
   "metadata": {},
   "outputs": [
    {
     "data": {
      "text/plain": [
       "<matplotlib.image.AxesImage at 0x7f3ef00fe5f8>"
      ]
     },
     "execution_count": 10,
     "metadata": {},
     "output_type": "execute_result"
    },
    {
     "data": {
      "image/png": "[encoded data removed]",
      "text/plain": [
       "<Figure size 432x288 with 1 Axes>"
      ]
     },
     "metadata": {
      "needs_background": "light"
     },
     "output_type": "display_data"
    }
   ],
   "source": [
    "plt.imshow(edges_depth_image)"
   ]
  },
  {
   "cell_type": "markdown",
   "metadata": {},
   "source": [
    "# Bridge"
   ]
  },
  {
   "cell_type": "code",
   "execution_count": 11,
   "metadata": {},
   "outputs": [],
   "source": [
    "bridge_angle = np.arctan2(20, 100) \n",
    "bridge_norm_vector = np.array([np.cos(bridge_angle), 0, -np.sin(bridge_angle)])\n",
    "bridge_distance  = 3\n",
    "bridge_height = 3\n",
    "def bridge_check(pt):\n",
    "    return (np.abs(pt[1]) < 3.75) and (pt[2] < bridge_height) and (pt[2] > 0)\n",
    "\n",
    "bridge_depth_image = np.zeros(img_size, dtype=np.uint16)\n",
    "\n",
    "for i in range(img_size[0]):\n",
    "    for j in range(img_size[1]):\n",
    "        ray = transform_cam2base_ray(np.array([j, i, 1.]))\n",
    "        depth = bridge_distance / bridge_norm_vector.dot(ray)\n",
    "        base_pt = camera_pose + ray * depth\n",
    "        if not bridge_check(base_pt) or depth > max_depth or depth < 0:\n",
    "            continue\n",
    "        bridge_depth_image[i, j] = round(depth * 1000)"
   ]
  },
  {
   "cell_type": "code",
   "execution_count": 12,
   "metadata": {},
   "outputs": [
    {
     "data": {
      "text/plain": [
       "<matplotlib.image.AxesImage at 0x7f3ef00e1d30>"
      ]
     },
     "execution_count": 12,
     "metadata": {},
     "output_type": "execute_result"
    },
    {
     "data": {
      "image/png": "[encoded data removed]",
      "text/plain": [
       "<Figure size 432x288 with 1 Axes>"
      ]
     },
     "metadata": {
      "needs_background": "light"
     },
     "output_type": "display_data"
    }
   ],
   "source": [
    "plt.imshow(bridge_depth_image)"
   ]
  },
  {
   "cell_type": "code",
   "execution_count": null,
   "metadata": {},
   "outputs": [],
   "source": []
  },
  {
   "cell_type": "markdown",
   "metadata": {},
   "source": [
    "# Unite"
   ]
  },
  {
   "cell_type": "code",
   "execution_count": 13,
   "metadata": {},
   "outputs": [],
   "source": [
    "result_depth_image = np.copy(road_depth_image)\n",
    "result_depth_image[edges_depth_image > 0] = edges_depth_image[edges_depth_image > 0]\n",
    "result_depth_image[sidewalk_depth_image > 0] = sidewalk_depth_image[sidewalk_depth_image > 0]\n",
    "result_depth_image[bridge_depth_image > 0] = bridge_depth_image[bridge_depth_image > 0]"
   ]
  },
  {
   "cell_type": "code",
   "execution_count": 14,
   "metadata": {},
   "outputs": [
    {
     "data": {
      "text/plain": [
       "<matplotlib.image.AxesImage at 0x7f3ef8af6518>"
      ]
     },
     "execution_count": 14,
     "metadata": {},
     "output_type": "execute_result"
    },
    {
     "data": {
      "image/png": "[encoded data removed]",
      "text/plain": [
       "<Figure size 432x288 with 1 Axes>"
      ]
     },
     "metadata": {
      "needs_background": "light"
     },
     "output_type": "display_data"
    }
   ],
   "source": [
    "plt.imshow(result_depth_image )"
   ]
  },
  {
   "cell_type": "markdown",
   "metadata": {},
   "source": [
    "# Save"
   ]
  },
  {
   "cell_type": "code",
   "execution_count": 15,
   "metadata": {},
   "outputs": [
    {
     "data": {
      "text/plain": [
       "True"
      ]
     },
     "execution_count": 15,
     "metadata": {},
     "output_type": "execute_result"
    }
   ],
   "source": [
    "import cv2\n",
    "cv2.imwrite(\"../Data/depth_sample.png\", result_depth_image)"
   ]
  },
  {
   "cell_type": "code",
   "execution_count": 17,
   "metadata": {},
   "outputs": [],
   "source": [
    "np.savetxt(\"../Data/K\", K)"
   ]
  },
  {
   "cell_type": "code",
   "execution_count": null,
   "metadata": {},
   "outputs": [],
   "source": []
  }
 ],
 "metadata": {
  "kernelspec": {
   "display_name": "Python 3.6.9 64-bit",
   "language": "python",
   "name": "python36964bit0fa823a77bac4ce19d1a9cd03f802742"
  },
  "language_info": {
   "codemirror_mode": {
    "name": "ipython",
    "version": 3
   },
   "file_extension": ".py",
   "mimetype": "text/x-python",
   "name": "python",
   "nbconvert_exporter": "python",
   "pygments_lexer": "ipython3",
   "version": "3.6.9"
  },
  "latex_envs": {
   "LaTeX_envs_menu_present": true,
   "autoclose": false,
   "autocomplete": true,
   "bibliofile": "biblio.bib",
   "cite_by": "apalike",
   "current_citInitial": 1,
   "eqLabelWithNumbers": true,
   "eqNumInitial": 1,
   "hotkeys": {
    "equation": "Ctrl-E",
    "itemize": "Ctrl-I"
   },
   "labels_anchors": false,
   "latex_user_defs": false,
   "report_style_numbering": false,
   "user_envs_cfg": false
  },
  "toc": {
   "base_numbering": 1,
   "nav_menu": {},
   "number_sections": false,
   "sideBar": true,
   "skip_h1_title": true,
   "title_cell": "Table of Contents",
   "title_sidebar": "Contents",
   "toc_cell": true,
   "toc_position": {},
   "toc_section_display": true,
   "toc_window_display": false
  }
 },
 "nbformat": 4,
 "nbformat_minor": 4
}
