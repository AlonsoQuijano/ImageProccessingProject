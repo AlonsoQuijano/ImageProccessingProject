{
 "cells": [
  {
   "cell_type": "markdown",
   "metadata": {
    "toc": true
   },
   "source": [
    "<h1>Table of Contents<span class=\"tocSkip\"></span></h1>\n",
    "<div class=\"toc\"><ul class=\"toc-item\"></ul></div>"
   ]
  },
  {
   "cell_type": "code",
   "execution_count": 9,
   "metadata": {},
   "outputs": [],
   "source": [
    "import cv2\n",
    "import os\n",
    "import glob\n",
    "import tqdm"
   ]
  },
  {
   "cell_type": "markdown",
   "metadata": {},
   "source": [
    "# Запись процесса работы RAG"
   ]
  },
  {
   "cell_type": "code",
   "execution_count": 28,
   "metadata": {},
   "outputs": [],
   "source": [
    "data_dir  = os.getcwd() + \"/../Data\"\n",
    "i8r_dir = data_dir + '/Res/debug.depth_sample.pointlike'\n",
    "segm_img_mask = i8r_dir + '/segm_*.png'\n",
    "list_of_files = filter(os.path.isfile, glob.glob(segm_img_mask))\n",
    "list_of_files = sorted( list_of_files,\n",
    "                        key = os.path.getmtime)[::10]\n",
    "\n",
    "report_dir = data_dir + \"/Report\""
   ]
  },
  {
   "cell_type": "code",
   "execution_count": 29,
   "metadata": {},
   "outputs": [],
   "source": [
    "img_sample = cv2.imread(list_of_files[0])"
   ]
  },
  {
   "cell_type": "code",
   "execution_count": 31,
   "metadata": {},
   "outputs": [
    {
     "name": "stderr",
     "output_type": "stream",
     "text": [
      "100%|██████████| 690/690 [00:02<00:00, 266.43it/s]\n"
     ]
    }
   ],
   "source": [
    "scale_coef = 1\n",
    "writer = cv2.VideoWriter(report_dir + '/segm_demonstration.mp4',cv2.VideoWriter_fourcc(*'MP4V'), 90, (img_sample.shape[1] * scale_coef,  img_sample.shape[0] * scale_coef))\n",
    "\n",
    "for i in tqdm.tqdm(range(0, len(list_of_files), 2)):\n",
    "    img = cv2.imread(list_of_files[i])\n",
    "    img = cv2.resize(img, None, fx=scale_coef, fy=scale_coef, interpolation=cv2.INTER_NEAREST)\n",
    "    writer.write(img)\n",
    "writer.release() "
   ]
  },
  {
   "cell_type": "markdown",
   "metadata": {},
   "source": [
    "# Измерение IoU"
   ]
  },
  {
   "cell_type": "code",
   "execution_count": 23,
   "metadata": {},
   "outputs": [],
   "source": [
    "import numpy as np\n",
    "import matplotlib.pyplot as plt \n",
    "gt = cv2.imread(data_dir + \"/ground_truth.png\", cv2.IMREAD_GRAYSCALE)\n",
    "\n",
    "def IoU(mask1, mask2):\n",
    "    i_img = cv2.bitwise_and(mask1, mask2)\n",
    "    u_img = cv2.bitwise_or(mask1, mask2)\n",
    "    i = np.sum(i_img)\n",
    "    u = np.sum(u_img) \n",
    "    dbg = np.stack((i_img * 0, i_img, u_img * (i_img == 0)), axis=2)\n",
    "    return i * 1. / u, dbg"
   ]
  },
  {
   "cell_type": "code",
   "execution_count": 24,
   "metadata": {},
   "outputs": [
    {
     "name": "stdout",
     "output_type": "stream",
     "text": [
      "RANSAC IoU: 0.7868223638915961\n"
     ]
    },
    {
     "data": {
      "text/plain": [
       "True"
      ]
     },
     "execution_count": 24,
     "metadata": {},
     "output_type": "execute_result"
    }
   ],
   "source": [
    "ransac_mask = cv2.imread(data_dir + \"/RANSAC_mask.png\", cv2.IMREAD_GRAYSCALE)\n",
    "iou_val, iou_debug = IoU(gt, ransac_mask)\n",
    "print(\"RANSAC IoU:\", iou_val)\n",
    "cv2.imwrite(report_dir + \"/RANSAC_iou_img.png\", iou_debug)"
   ]
  },
  {
   "cell_type": "code",
   "execution_count": 25,
   "metadata": {},
   "outputs": [
    {
     "name": "stdout",
     "output_type": "stream",
     "text": [
      "RAG IoU: 0.9881139489194499\n"
     ]
    },
    {
     "data": {
      "text/plain": [
       "True"
      ]
     },
     "execution_count": 25,
     "metadata": {},
     "output_type": "execute_result"
    }
   ],
   "source": [
    "rag_mask = cv2.imread(data_dir + \"/RAG_mask.png\", cv2.IMREAD_GRAYSCALE)\n",
    "iou_val, iou_debug = IoU(gt, rag_mask)\n",
    "print(\"RAG IoU:\", iou_val)\n",
    "cv2.imwrite(report_dir + \"/RAG_iou_img.png\", iou_debug)"
   ]
  },
  {
   "cell_type": "code",
   "execution_count": null,
   "metadata": {},
   "outputs": [],
   "source": []
  }
 ],
 "metadata": {
  "kernelspec": {
   "display_name": "Python 3",
   "language": "python",
   "name": "python3"
  },
  "language_info": {
   "codemirror_mode": {
    "name": "ipython",
    "version": 3
   },
   "file_extension": ".py",
   "mimetype": "text/x-python",
   "name": "python",
   "nbconvert_exporter": "python",
   "pygments_lexer": "ipython3",
   "version": "3.6.9"
  },
  "latex_envs": {
   "LaTeX_envs_menu_present": true,
   "autoclose": false,
   "autocomplete": true,
   "bibliofile": "biblio.bib",
   "cite_by": "apalike",
   "current_citInitial": 1,
   "eqLabelWithNumbers": true,
   "eqNumInitial": 1,
   "hotkeys": {
    "equation": "Ctrl-E",
    "itemize": "Ctrl-I"
   },
   "labels_anchors": false,
   "latex_user_defs": false,
   "report_style_numbering": false,
   "user_envs_cfg": false
  },
  "toc": {
   "base_numbering": 1,
   "nav_menu": {},
   "number_sections": false,
   "sideBar": true,
   "skip_h1_title": true,
   "title_cell": "Table of Contents",
   "title_sidebar": "Contents",
   "toc_cell": true,
   "toc_position": {},
   "toc_section_display": true,
   "toc_window_display": false
  }
 },
 "nbformat": 4,
 "nbformat_minor": 2
}
