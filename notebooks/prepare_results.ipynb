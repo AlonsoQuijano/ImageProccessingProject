{
 "metadata": {
  "language_info": {
   "codemirror_mode": {
    "name": "ipython",
    "version": 3
   },
   "file_extension": ".py",
   "mimetype": "text/x-python",
   "name": "python",
   "nbconvert_exporter": "python",
   "pygments_lexer": "ipython3",
   "version": "3.6.9"
  },
  "orig_nbformat": 2,
  "kernelspec": {
   "name": "python3",
   "display_name": "Python 3.6.9 64-bit",
   "metadata": {
    "interpreter": {
     "hash": "31f2aee4e71d21fbe5cf8b01ff0e069b9275f58929596ceb00d14d90e3e16cd6"
    }
   }
  }
 },
 "nbformat": 4,
 "nbformat_minor": 2,
 "cells": [
  {
   "cell_type": "code",
   "execution_count": 1,
   "metadata": {},
   "outputs": [],
   "source": [
    "import cv2\n",
    "import os\n",
    "import glob\n",
    "import tqdm"
   ]
  },
  {
   "cell_type": "code",
   "execution_count": 2,
   "metadata": {},
   "outputs": [],
   "source": [
    "directory = '/home/mikhail/Education/semester_10/ImageProcessing/colorsegmentation/Data/Res/debug.depth_sample_small.pointlike'\n",
    "segm_img_mask = directory + '/segm_*.png'\n",
    "list_of_files = filter(os.path.isfile, glob.glob(segm_img_mask))\n",
    "list_of_files = sorted( list_of_files,\n",
    "                        key = os.path.getmtime)"
   ]
  },
  {
   "cell_type": "code",
   "execution_count": 3,
   "metadata": {},
   "outputs": [],
   "source": [
    "img_sample = cv2.imread(list_of_files[0])"
   ]
  },
  {
   "cell_type": "code",
   "execution_count": 4,
   "metadata": {},
   "outputs": [
    {
     "output_type": "stream",
     "name": "stderr",
     "text": [
      "100%|██████████| 247/247 [00:01<00:00, 186.25it/s]\n"
     ]
    }
   ],
   "source": [
    "scale_coef = 3\n",
    "writer = cv2.VideoWriter(directory + '/../segm_demonstration.mp4',cv2.VideoWriter_fourcc(*'MP4V'), 90, (img_sample.shape[1] * scale_coef,  img_sample.shape[0] * scale_coef))\n",
    "\n",
    "for i in tqdm.tqdm(range(0, len(list_of_files), 2)):\n",
    "    img = cv2.imread(list_of_files[i])\n",
    "    img = cv2.resize(img, None, fx=scale_coef, fy=scale_coef, interpolation=cv2.INTER_NEAREST)\n",
    "    writer.write(img)\n",
    "writer.release() "
   ]
  },
  {
   "cell_type": "code",
   "execution_count": null,
   "metadata": {},
   "outputs": [],
   "source": []
  }
 ]
}