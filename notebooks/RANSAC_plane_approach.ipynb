{
 "cells": [
  {
   "cell_type": "markdown",
   "metadata": {
    "toc": true
   },
   "source": [
    "<h1>Table of Contents<span class=\"tocSkip\"></span></h1>\n",
    "<div class=\"toc\"><ul class=\"toc-item\"></ul></div>"
   ]
  },
  {
   "cell_type": "code",
   "execution_count": 1,
   "metadata": {},
   "outputs": [],
   "source": [
    "# import rosbag\n",
    "import numpy as np \n",
    "import matplotlib.pyplot as plt\n",
    "# from cv_bridge import CvBridge, CvBridgeError\n",
    "# import sensor_msgs.point_cloud2 as pc2\n",
    "\n",
    "import cv2"
   ]
  },
  {
   "cell_type": "code",
   "execution_count": 2,
   "metadata": {},
   "outputs": [],
   "source": [
    "# bag = rosbag.Bag(\"/mnt/Garage/Data/2020-02-26-15-27-06_0.bag\")"
   ]
  },
  {
   "cell_type": "code",
   "execution_count": 3,
   "metadata": {},
   "outputs": [],
   "source": [
    "# depth_img_msgs = np.array([msg for topic, msg, t in bag.read_messages(topics=['/vision/zed/front/depth/image/compressedDepth'])])\n",
    "# depth_cam_info_msgs = [msg for topic, msg, t in bag.read_messages(topics=['/vision/zed/front/depth/camera_info'])][0]\n",
    "\n",
    "# rgb_img_msgs = np.array([msg for topic, msg, t in bag.read_messages(topics=['/vision/zed/front/rgb/image/compressed'])])\n",
    "# rgb_cam_info_msgs = [msg for topic, msg, t in bag.read_messages(topics=['/vision/zed/front/rgb/camera_info'])][0]\n",
    "\n",
    "# #one rgb image has no depth match\n",
    "# rgb_img_msgs = rgb_img_msgs[:-1]"
   ]
  },
  {
   "cell_type": "code",
   "execution_count": 4,
   "metadata": {},
   "outputs": [],
   "source": [
    "# def depth_by_id(img_id):\n",
    "#     bridge = CvBridge()\n",
    "#     return bridge.imgmsg_to_cv2(depth_img_msgs[img_id], \"mono16\")\n",
    "\n",
    "# def rgb_by_id(img_id):\n",
    "#     bridge = CvBridge()\n",
    "#     return bridge.compressed_imgmsg_to_cv2(rgb_img_msgs[img_id], \"bgr8\")[:,:,::-1]"
   ]
  },
  {
   "cell_type": "code",
   "execution_count": 5,
   "metadata": {},
   "outputs": [],
   "source": [
    "def load_depth_sample():\n",
    "    return cv2.imread(\"../Data/depth_sample.png\", cv2.IMREAD_ANYDEPTH)"
   ]
  },
  {
   "cell_type": "code",
   "execution_count": 6,
   "metadata": {},
   "outputs": [
    {
     "output_type": "display_data",
     "data": {
      "image/png": "[encoded data removed]",
      "text/plain": "<matplotlib.figure.Figure at 0x7f6cd27e3e50>",
      "image/svg+xml": "<?xml version=\"1.0\" encoding=\"utf-8\" standalone=\"no\"?>\n<!DOCTYPE svg PUBLIC \"-//W3C//DTD SVG 1.1//EN\"\n  \"http://www.w3.org/Graphics/SVG/1.1/DTD/svg11.dtd\">\n<!-- Created with matplotlib (http://matplotlib.org/) -->\n<svg height=\"222pt\" version=\"1.1\" viewBox=\"0 0 378 222\" width=\"378pt\" xmlns=\"http://www.w3.org/2000/svg\" xmlns:xlink=\"http://www.w3.org/1999/xlink\">\n <defs>\n  <style type=\"text/css\">\n*{stroke-linecap:butt;stroke-linejoin:round;}\n  </style>\n </defs>\n <g id=\"figure_1\">\n  <g id=\"patch_1\">\n   <path d=\"M 0 222.940781 \nL 378.7875 222.940781 \nL 378.7875 0 \nL 0 0 \nz\n\" style=\"fill:none;\"/>\n  </g>\n  <g id=\"axes_1\">\n   <g id=\"patch_2\">\n    <path d=\"M 33.2875 199.062656 \nL 368.0875 199.062656 \nL 368.0875 10.737656 \nL 33.2875 10.737656 \nz\n\" style=\"fill:#ffffff;\"/>\n   </g>\n   <g clip-path=\"url(#p1f2447e1d9)\">\n    <image height=\"189\" id=\"imageedbfe6db6b\" transform=\"scale(1 -1)translate(0 -189)\" width=\"335\" x=\"33.2875\" xlink:href=\"data:image/png;base64,\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\" y=\"-10.062656\"/>\n   </g>\n   <g id=\"matplotlib.axis_1\">\n    <g id=\"xtick_1\">\n     <g id=\"line2d_1\">\n      <defs>\n       <path d=\"M 0 0 \nL 0 3.5 \n\" id=\"ma9ec18bdf5\" style=\"stroke:#000000;stroke-width:0.8;\"/>\n      </defs>\n      <g>\n       <use style=\"stroke:#000000;stroke-width:0.8;\" x=\"33.549063\" xlink:href=\"#ma9ec18bdf5\" y=\"199.062656\"/>\n      </g>\n     </g>\n     <g id=\"text_1\">\n      <!-- 0 -->\n      <defs>\n       <path d=\"M 31.78125 66.40625 \nQ 24.171875 66.40625 20.328125 58.90625 \nQ 16.5 51.421875 16.5 36.375 \nQ 16.5 21.390625 20.328125 13.890625 \nQ 24.171875 6.390625 31.78125 6.390625 \nQ 39.453125 6.390625 43.28125 13.890625 \nQ 47.125 21.390625 47.125 36.375 \nQ 47.125 51.421875 43.28125 58.90625 \nQ 39.453125 66.40625 31.78125 66.40625 \nz\nM 31.78125 74.21875 \nQ 44.046875 74.21875 50.515625 64.515625 \nQ 56.984375 54.828125 56.984375 36.375 \nQ 56.984375 17.96875 50.515625 8.265625 \nQ 44.046875 -1.421875 31.78125 -1.421875 \nQ 19.53125 -1.421875 13.0625 8.265625 \nQ 6.59375 17.96875 6.59375 36.375 \nQ 6.59375 54.828125 13.0625 64.515625 \nQ 19.53125 74.21875 31.78125 74.21875 \nz\n\" id=\"DejaVuSans-30\"/>\n      </defs>\n      <g transform=\"translate(30.367813 213.661094)scale(0.1 -0.1)\">\n       <use xlink:href=\"#DejaVuSans-30\"/>\n      </g>\n     </g>\n    </g>\n    <g id=\"xtick_2\">\n     <g id=\"line2d_2\">\n      <g>\n       <use style=\"stroke:#000000;stroke-width:0.8;\" x=\"85.861563\" xlink:href=\"#ma9ec18bdf5\" y=\"199.062656\"/>\n      </g>\n     </g>\n     <g id=\"text_2\">\n      <!-- 100 -->\n      <defs>\n       <path d=\"M 12.40625 8.296875 \nL 28.515625 8.296875 \nL 28.515625 63.921875 \nL 10.984375 60.40625 \nL 10.984375 69.390625 \nL 28.421875 72.90625 \nL 38.28125 72.90625 \nL 38.28125 8.296875 \nL 54.390625 8.296875 \nL 54.390625 0 \nL 12.40625 0 \nz\n\" id=\"DejaVuSans-31\"/>\n      </defs>\n      <g transform=\"translate(76.317813 213.661094)scale(0.1 -0.1)\">\n       <use xlink:href=\"#DejaVuSans-31\"/>\n       <use x=\"63.623047\" xlink:href=\"#DejaVuSans-30\"/>\n       <use x=\"127.246094\" xlink:href=\"#DejaVuSans-30\"/>\n      </g>\n     </g>\n    </g>\n    <g id=\"xtick_3\">\n     <g id=\"line2d_3\">\n      <g>\n       <use style=\"stroke:#000000;stroke-width:0.8;\" x=\"138.174063\" xlink:href=\"#ma9ec18bdf5\" y=\"199.062656\"/>\n      </g>\n     </g>\n     <g id=\"text_3\">\n      <!-- 200 -->\n      <defs>\n       <path d=\"M 19.1875 8.296875 \nL 53.609375 8.296875 \nL 53.609375 0 \nL 7.328125 0 \nL 7.328125 8.296875 \nQ 12.9375 14.109375 22.625 23.890625 \nQ 32.328125 33.6875 34.8125 36.53125 \nQ 39.546875 41.84375 41.421875 45.53125 \nQ 43.3125 49.21875 43.3125 52.78125 \nQ 43.3125 58.59375 39.234375 62.25 \nQ 35.15625 65.921875 28.609375 65.921875 \nQ 23.96875 65.921875 18.8125 64.3125 \nQ 13.671875 62.703125 7.8125 59.421875 \nL 7.8125 69.390625 \nQ 13.765625 71.78125 18.9375 73 \nQ 24.125 74.21875 28.421875 74.21875 \nQ 39.75 74.21875 46.484375 68.546875 \nQ 53.21875 62.890625 53.21875 53.421875 \nQ 53.21875 48.921875 51.53125 44.890625 \nQ 49.859375 40.875 45.40625 35.40625 \nQ 44.1875 33.984375 37.640625 27.21875 \nQ 31.109375 20.453125 19.1875 8.296875 \nz\n\" id=\"DejaVuSans-32\"/>\n      </defs>\n      <g transform=\"translate(128.630313 213.661094)scale(0.1 -0.1)\">\n       <use xlink:href=\"#DejaVuSans-32\"/>\n       <use x=\"63.623047\" xlink:href=\"#DejaVuSans-30\"/>\n       <use x=\"127.246094\" xlink:href=\"#DejaVuSans-30\"/>\n      </g>\n     </g>\n    </g>\n    <g id=\"xtick_4\">\n     <g id=\"line2d_4\">\n      <g>\n       <use style=\"stroke:#000000;stroke-width:0.8;\" x=\"190.486563\" xlink:href=\"#ma9ec18bdf5\" y=\"199.062656\"/>\n      </g>\n     </g>\n     <g id=\"text_4\">\n      <!-- 300 -->\n      <defs>\n       <path d=\"M 40.578125 39.3125 \nQ 47.65625 37.796875 51.625 33 \nQ 55.609375 28.21875 55.609375 21.1875 \nQ 55.609375 10.40625 48.1875 4.484375 \nQ 40.765625 -1.421875 27.09375 -1.421875 \nQ 22.515625 -1.421875 17.65625 -0.515625 \nQ 12.796875 0.390625 7.625 2.203125 \nL 7.625 11.71875 \nQ 11.71875 9.328125 16.59375 8.109375 \nQ 21.484375 6.890625 26.8125 6.890625 \nQ 36.078125 6.890625 40.9375 10.546875 \nQ 45.796875 14.203125 45.796875 21.1875 \nQ 45.796875 27.640625 41.28125 31.265625 \nQ 36.765625 34.90625 28.71875 34.90625 \nL 20.21875 34.90625 \nL 20.21875 43.015625 \nL 29.109375 43.015625 \nQ 36.375 43.015625 40.234375 45.921875 \nQ 44.09375 48.828125 44.09375 54.296875 \nQ 44.09375 59.90625 40.109375 62.90625 \nQ 36.140625 65.921875 28.71875 65.921875 \nQ 24.65625 65.921875 20.015625 65.03125 \nQ 15.375 64.15625 9.8125 62.3125 \nL 9.8125 71.09375 \nQ 15.4375 72.65625 20.34375 73.4375 \nQ 25.25 74.21875 29.59375 74.21875 \nQ 40.828125 74.21875 47.359375 69.109375 \nQ 53.90625 64.015625 53.90625 55.328125 \nQ 53.90625 49.265625 50.4375 45.09375 \nQ 46.96875 40.921875 40.578125 39.3125 \nz\n\" id=\"DejaVuSans-33\"/>\n      </defs>\n      <g transform=\"translate(180.942813 213.661094)scale(0.1 -0.1)\">\n       <use xlink:href=\"#DejaVuSans-33\"/>\n       <use x=\"63.623047\" xlink:href=\"#DejaVuSans-30\"/>\n       <use x=\"127.246094\" xlink:href=\"#DejaVuSans-30\"/>\n      </g>\n     </g>\n    </g>\n    <g id=\"xtick_5\">\n     <g id=\"line2d_5\">\n      <g>\n       <use style=\"stroke:#000000;stroke-width:0.8;\" x=\"242.799063\" xlink:href=\"#ma9ec18bdf5\" y=\"199.062656\"/>\n      </g>\n     </g>\n     <g id=\"text_5\">\n      <!-- 400 -->\n      <defs>\n       <path d=\"M 37.796875 64.3125 \nL 12.890625 25.390625 \nL 37.796875 25.390625 \nz\nM 35.203125 72.90625 \nL 47.609375 72.90625 \nL 47.609375 25.390625 \nL 58.015625 25.390625 \nL 58.015625 17.1875 \nL 47.609375 17.1875 \nL 47.609375 0 \nL 37.796875 0 \nL 37.796875 17.1875 \nL 4.890625 17.1875 \nL 4.890625 26.703125 \nz\n\" id=\"DejaVuSans-34\"/>\n      </defs>\n      <g transform=\"translate(233.255313 213.661094)scale(0.1 -0.1)\">\n       <use xlink:href=\"#DejaVuSans-34\"/>\n       <use x=\"63.623047\" xlink:href=\"#DejaVuSans-30\"/>\n       <use x=\"127.246094\" xlink:href=\"#DejaVuSans-30\"/>\n      </g>\n     </g>\n    </g>\n    <g id=\"xtick_6\">\n     <g id=\"line2d_6\">\n      <g>\n       <use style=\"stroke:#000000;stroke-width:0.8;\" x=\"295.111563\" xlink:href=\"#ma9ec18bdf5\" y=\"199.062656\"/>\n      </g>\n     </g>\n     <g id=\"text_6\">\n      <!-- 500 -->\n      <defs>\n       <path d=\"M 10.796875 72.90625 \nL 49.515625 72.90625 \nL 49.515625 64.59375 \nL 19.828125 64.59375 \nL 19.828125 46.734375 \nQ 21.96875 47.46875 24.109375 47.828125 \nQ 26.265625 48.1875 28.421875 48.1875 \nQ 40.625 48.1875 47.75 41.5 \nQ 54.890625 34.8125 54.890625 23.390625 \nQ 54.890625 11.625 47.5625 5.09375 \nQ 40.234375 -1.421875 26.90625 -1.421875 \nQ 22.3125 -1.421875 17.546875 -0.640625 \nQ 12.796875 0.140625 7.71875 1.703125 \nL 7.71875 11.625 \nQ 12.109375 9.234375 16.796875 8.0625 \nQ 21.484375 6.890625 26.703125 6.890625 \nQ 35.15625 6.890625 40.078125 11.328125 \nQ 45.015625 15.765625 45.015625 23.390625 \nQ 45.015625 31 40.078125 35.4375 \nQ 35.15625 39.890625 26.703125 39.890625 \nQ 22.75 39.890625 18.8125 39.015625 \nQ 14.890625 38.140625 10.796875 36.28125 \nz\n\" id=\"DejaVuSans-35\"/>\n      </defs>\n      <g transform=\"translate(285.567813 213.661094)scale(0.1 -0.1)\">\n       <use xlink:href=\"#DejaVuSans-35\"/>\n       <use x=\"63.623047\" xlink:href=\"#DejaVuSans-30\"/>\n       <use x=\"127.246094\" xlink:href=\"#DejaVuSans-30\"/>\n      </g>\n     </g>\n    </g>\n    <g id=\"xtick_7\">\n     <g id=\"line2d_7\">\n      <g>\n       <use style=\"stroke:#000000;stroke-width:0.8;\" x=\"347.424063\" xlink:href=\"#ma9ec18bdf5\" y=\"199.062656\"/>\n      </g>\n     </g>\n     <g id=\"text_7\">\n      <!-- 600 -->\n      <defs>\n       <path d=\"M 33.015625 40.375 \nQ 26.375 40.375 22.484375 35.828125 \nQ 18.609375 31.296875 18.609375 23.390625 \nQ 18.609375 15.53125 22.484375 10.953125 \nQ 26.375 6.390625 33.015625 6.390625 \nQ 39.65625 6.390625 43.53125 10.953125 \nQ 47.40625 15.53125 47.40625 23.390625 \nQ 47.40625 31.296875 43.53125 35.828125 \nQ 39.65625 40.375 33.015625 40.375 \nz\nM 52.59375 71.296875 \nL 52.59375 62.3125 \nQ 48.875 64.0625 45.09375 64.984375 \nQ 41.3125 65.921875 37.59375 65.921875 \nQ 27.828125 65.921875 22.671875 59.328125 \nQ 17.53125 52.734375 16.796875 39.40625 \nQ 19.671875 43.65625 24.015625 45.921875 \nQ 28.375 48.1875 33.59375 48.1875 \nQ 44.578125 48.1875 50.953125 41.515625 \nQ 57.328125 34.859375 57.328125 23.390625 \nQ 57.328125 12.15625 50.6875 5.359375 \nQ 44.046875 -1.421875 33.015625 -1.421875 \nQ 20.359375 -1.421875 13.671875 8.265625 \nQ 6.984375 17.96875 6.984375 36.375 \nQ 6.984375 53.65625 15.1875 63.9375 \nQ 23.390625 74.21875 37.203125 74.21875 \nQ 40.921875 74.21875 44.703125 73.484375 \nQ 48.484375 72.75 52.59375 71.296875 \nz\n\" id=\"DejaVuSans-36\"/>\n      </defs>\n      <g transform=\"translate(337.880313 213.661094)scale(0.1 -0.1)\">\n       <use xlink:href=\"#DejaVuSans-36\"/>\n       <use x=\"63.623047\" xlink:href=\"#DejaVuSans-30\"/>\n       <use x=\"127.246094\" xlink:href=\"#DejaVuSans-30\"/>\n      </g>\n     </g>\n    </g>\n   </g>\n   <g id=\"matplotlib.axis_2\">\n    <g id=\"ytick_1\">\n     <g id=\"line2d_8\">\n      <defs>\n       <path d=\"M 0 0 \nL -3.5 0 \n\" id=\"m9b63bf889b\" style=\"stroke:#000000;stroke-width:0.8;\"/>\n      </defs>\n      <g>\n       <use style=\"stroke:#000000;stroke-width:0.8;\" x=\"33.2875\" xlink:href=\"#m9b63bf889b\" y=\"10.999219\"/>\n      </g>\n     </g>\n     <g id=\"text_8\">\n      <!-- 0 -->\n      <g transform=\"translate(19.925 14.798438)scale(0.1 -0.1)\">\n       <use xlink:href=\"#DejaVuSans-30\"/>\n      </g>\n     </g>\n    </g>\n    <g id=\"ytick_2\">\n     <g id=\"line2d_9\">\n      <g>\n       <use style=\"stroke:#000000;stroke-width:0.8;\" x=\"33.2875\" xlink:href=\"#m9b63bf889b\" y=\"37.155469\"/>\n      </g>\n     </g>\n     <g id=\"text_9\">\n      <!-- 50 -->\n      <g transform=\"translate(13.5625 40.954688)scale(0.1 -0.1)\">\n       <use xlink:href=\"#DejaVuSans-35\"/>\n       <use x=\"63.623047\" xlink:href=\"#DejaVuSans-30\"/>\n      </g>\n     </g>\n    </g>\n    <g id=\"ytick_3\">\n     <g id=\"line2d_10\">\n      <g>\n       <use style=\"stroke:#000000;stroke-width:0.8;\" x=\"33.2875\" xlink:href=\"#m9b63bf889b\" y=\"63.311719\"/>\n      </g>\n     </g>\n     <g id=\"text_10\">\n      <!-- 100 -->\n      <g transform=\"translate(7.2 67.110938)scale(0.1 -0.1)\">\n       <use xlink:href=\"#DejaVuSans-31\"/>\n       <use x=\"63.623047\" xlink:href=\"#DejaVuSans-30\"/>\n       <use x=\"127.246094\" xlink:href=\"#DejaVuSans-30\"/>\n      </g>\n     </g>\n    </g>\n    <g id=\"ytick_4\">\n     <g id=\"line2d_11\">\n      <g>\n       <use style=\"stroke:#000000;stroke-width:0.8;\" x=\"33.2875\" xlink:href=\"#m9b63bf889b\" y=\"89.467969\"/>\n      </g>\n     </g>\n     <g id=\"text_11\">\n      <!-- 150 -->\n      <g transform=\"translate(7.2 93.267188)scale(0.1 -0.1)\">\n       <use xlink:href=\"#DejaVuSans-31\"/>\n       <use x=\"63.623047\" xlink:href=\"#DejaVuSans-35\"/>\n       <use x=\"127.246094\" xlink:href=\"#DejaVuSans-30\"/>\n      </g>\n     </g>\n    </g>\n    <g id=\"ytick_5\">\n     <g id=\"line2d_12\">\n      <g>\n       <use style=\"stroke:#000000;stroke-width:0.8;\" x=\"33.2875\" xlink:href=\"#m9b63bf889b\" y=\"115.624219\"/>\n      </g>\n     </g>\n     <g id=\"text_12\">\n      <!-- 200 -->\n      <g transform=\"translate(7.2 119.423438)scale(0.1 -0.1)\">\n       <use xlink:href=\"#DejaVuSans-32\"/>\n       <use x=\"63.623047\" xlink:href=\"#DejaVuSans-30\"/>\n       <use x=\"127.246094\" xlink:href=\"#DejaVuSans-30\"/>\n      </g>\n     </g>\n    </g>\n    <g id=\"ytick_6\">\n     <g id=\"line2d_13\">\n      <g>\n       <use style=\"stroke:#000000;stroke-width:0.8;\" x=\"33.2875\" xlink:href=\"#m9b63bf889b\" y=\"141.780469\"/>\n      </g>\n     </g>\n     <g id=\"text_13\">\n      <!-- 250 -->\n      <g transform=\"translate(7.2 145.579688)scale(0.1 -0.1)\">\n       <use xlink:href=\"#DejaVuSans-32\"/>\n       <use x=\"63.623047\" xlink:href=\"#DejaVuSans-35\"/>\n       <use x=\"127.246094\" xlink:href=\"#DejaVuSans-30\"/>\n      </g>\n     </g>\n    </g>\n    <g id=\"ytick_7\">\n     <g id=\"line2d_14\">\n      <g>\n       <use style=\"stroke:#000000;stroke-width:0.8;\" x=\"33.2875\" xlink:href=\"#m9b63bf889b\" y=\"167.936719\"/>\n      </g>\n     </g>\n     <g id=\"text_14\">\n      <!-- 300 -->\n      <g transform=\"translate(7.2 171.735938)scale(0.1 -0.1)\">\n       <use xlink:href=\"#DejaVuSans-33\"/>\n       <use x=\"63.623047\" xlink:href=\"#DejaVuSans-30\"/>\n       <use x=\"127.246094\" xlink:href=\"#DejaVuSans-30\"/>\n      </g>\n     </g>\n    </g>\n    <g id=\"ytick_8\">\n     <g id=\"line2d_15\">\n      <g>\n       <use style=\"stroke:#000000;stroke-width:0.8;\" x=\"33.2875\" xlink:href=\"#m9b63bf889b\" y=\"194.092969\"/>\n      </g>\n     </g>\n     <g id=\"text_15\">\n      <!-- 350 -->\n      <g transform=\"translate(7.2 197.892188)scale(0.1 -0.1)\">\n       <use xlink:href=\"#DejaVuSans-33\"/>\n       <use x=\"63.623047\" xlink:href=\"#DejaVuSans-35\"/>\n       <use x=\"127.246094\" xlink:href=\"#DejaVuSans-30\"/>\n      </g>\n     </g>\n    </g>\n   </g>\n   <g id=\"patch_3\">\n    <path d=\"M 33.2875 199.062656 \nL 33.2875 10.737656 \n\" style=\"fill:none;stroke:#000000;stroke-linecap:square;stroke-linejoin:miter;stroke-width:0.8;\"/>\n   </g>\n   <g id=\"patch_4\">\n    <path d=\"M 368.0875 199.062656 \nL 368.0875 10.737656 \n\" style=\"fill:none;stroke:#000000;stroke-linecap:square;stroke-linejoin:miter;stroke-width:0.8;\"/>\n   </g>\n   <g id=\"patch_5\">\n    <path d=\"M 33.2875 199.062656 \nL 368.0875 199.062656 \n\" style=\"fill:none;stroke:#000000;stroke-linecap:square;stroke-linejoin:miter;stroke-width:0.8;\"/>\n   </g>\n   <g id=\"patch_6\">\n    <path d=\"M 33.2875 10.737656 \nL 368.0875 10.737656 \n\" style=\"fill:none;stroke:#000000;stroke-linecap:square;stroke-linejoin:miter;stroke-width:0.8;\"/>\n   </g>\n  </g>\n </g>\n <defs>\n  <clipPath id=\"p1f2447e1d9\">\n   <rect height=\"188.325\" width=\"334.8\" x=\"33.2875\" y=\"10.737656\"/>\n  </clipPath>\n </defs>\n</svg>\n"
     },
     "metadata": {
      "needs_background": "light"
     }
    }
   ],
   "source": [
    "img = load_depth_sample()\n",
    "plt.imshow(img)\n",
    "assert(np.max(img) > 255)"
   ]
  },
  {
   "cell_type": "code",
   "execution_count": 7,
   "metadata": {},
   "outputs": [],
   "source": [
    "# raw_data = depth_img_msgs[20].data[12:]\n",
    "# img = cv2.imdecode(np.fromstring(raw_data, np.uint8), cv2.IMREAD_UNCHANGED)\n",
    "# plt.imshow(img)"
   ]
  },
  {
   "cell_type": "code",
   "execution_count": 8,
   "metadata": {
    "scrolled": true
   },
   "outputs": [],
   "source": [
    "# plt.imshow(depth_by_id(0))"
   ]
  },
  {
   "cell_type": "code",
   "execution_count": 9,
   "metadata": {},
   "outputs": [],
   "source": [
    "# plt.imshow(rgb_by_id(0))"
   ]
  },
  {
   "cell_type": "code",
   "execution_count": 10,
   "metadata": {},
   "outputs": [
    {
     "output_type": "execute_result",
     "data": {
      "text/plain": [
       "array([[133.33333333,   0.        , 320.        ],\n",
       "       [  0.        , 133.33333333, 180.        ],\n",
       "       [  0.        ,   0.        ,   1.        ]])"
      ]
     },
     "metadata": {},
     "execution_count": 10
    }
   ],
   "source": [
    "depth_K = np.loadtxt(\"../Data/K\")\n",
    "depth_K_inv = np.linalg.inv(depth_K)\n",
    "# rgb_K = np.array(rgb_cam_info_msgs.K).reshape((3, 3))\n",
    "# depth2bgr_scale  = rgb_K[0, 0] / depth_K[0, 0]\n",
    "depth_K"
   ]
  },
  {
   "cell_type": "markdown",
   "metadata": {},
   "source": [
    "# RANSAC implementation"
   ]
  },
  {
   "cell_type": "code",
   "execution_count": 11,
   "metadata": {},
   "outputs": [],
   "source": [
    "class RANSAC_Params:\n",
    "    target_good_estimation_prob = 0.999\n",
    "    all_inliers_chosen_prob = 0.2\n",
    "    good_point_threshold = 3e-3\n",
    "        \n",
    "class RANSAC_RoadExtractor:\n",
    "    _params = RANSAC_Params\n",
    "    _num_iters = 1\n",
    "    \n",
    "    def __init__(self, params):\n",
    "        np.random.seed(21)\n",
    "        self.set_params(params)\n",
    "        \n",
    "    def estimate_road_plane(self, point_img):\n",
    "        points, indexes = self._prepare_points_list(point_img)\n",
    "        hypotheses = self._prepare_hypoteses(points)\n",
    "        best_hypothesis, best_inliers = self._choose_best_hypothesis(hypotheses, points)\n",
    "        mask = self._prepare_mask(point_img.shape, indexes, best_inliers)\n",
    "        return best_hypothesis, mask\n",
    "        \n",
    "    def set_params(self, params):\n",
    "        self._params.target_good_estimation_prob = params.target_good_estimation_prob\n",
    "        self._params.all_inliers_chosen_prob = params.all_inliers_chosen_prob\n",
    "        self._params.good_point_threshold = params.good_point_threshold\n",
    "        self._calc_num_iterations()\n",
    "        \n",
    "    def _calc_num_iterations(self):\n",
    "        self._num_iters = int(np.ceil(np.log(1 - self._params.target_good_estimation_prob) / \\\n",
    "                                      np.log(1 - self._params.all_inliers_chosen_prob)))\n",
    "        print (\"Calculated num of iterations: \" + str(self._num_iters))\n",
    "        \n",
    "    def _prepare_hypoteses(self, points):\n",
    "        plane_coefs = []\n",
    "        random_inds = np.random.choice(len(points), (self._num_iters, 3))\n",
    "        for i in range(self._num_iters):\n",
    "            i1, i2, i3 = random_inds[i]\n",
    "            if (i1 == i2) or (i1 == i3) or (i2 == i3):\n",
    "                continue\n",
    "            p1 = points[i1]\n",
    "            p2 = points[i2]\n",
    "            p3 = points[i3]\n",
    "            plane_coefs.append(self._calc_plane_coefs(p1, p2, p3))\n",
    "        return plane_coefs\n",
    "    \n",
    "    def _calc_plane_coefs(self, p1, p2, p3):\n",
    "        d1 = p3 - p1\n",
    "        d2 = p2 - p1\n",
    "        norm_vec = np.cross(d1, d2)\n",
    "        norm_vec /= np.linalg.norm(norm_vec)\n",
    "        shift = np.dot(norm_vec, p1)\n",
    "        return (norm_vec[0], norm_vec[1], norm_vec[2], -shift)\n",
    "    \n",
    "    def _choose_best_hypothesis(self, hypotheses, points):\n",
    "        prepared_points = np.hstack((points, np.ones((len(points), 1), dtype=np.float64)))\n",
    "        errors = (np.array(hypotheses).dot(prepared_points.T))\n",
    "        inliers = np.abs(errors) < self._params.good_point_threshold\n",
    "        inlier_count = np.sum(inliers, axis=1)\n",
    "        assert(len(inlier_count) == len(hypotheses))\n",
    "        best_ind = np.argmax(inlier_count)\n",
    "        best_hypothesis = hypotheses[best_ind]\n",
    "        best_inliers = inliers[best_ind]\n",
    "        return best_hypothesis, best_inliers \n",
    "    \n",
    "    def _prepare_points_list(self, point_img):\n",
    "        points_list = np.array(point_img).reshape(-1, 3)\n",
    "        indexes = np.arange(len(points_list)).reshape(-1, 1)\n",
    "        indexes = np.hstack((indexes // point_img.shape[1], indexes % point_img.shape[1]))\n",
    "        non_zero_points = np.sum(points_list**2, axis=1) > 1e-7\n",
    "        points_list = points_list[non_zero_points]\n",
    "        indexes = indexes[non_zero_points]\n",
    "        return points_list, indexes\n",
    "    \n",
    "    def _prepare_mask(self, img_size, indexes, inliers):\n",
    "        mask = np.zeros(img_size[:2])\n",
    "        indexes = indexes[inliers]\n",
    "        for index in indexes:\n",
    "            mask[index[0], index[1]] = 1\n",
    "        return mask\n",
    "        \n",
    "def depth2xyz_img(depth_img):\n",
    "    coords = np.zeros((depth_img.shape[0], depth_img.shape[1], 3))\n",
    "    for i in range(coords.shape[0]):\n",
    "        for j in range(coords.shape[1]):\n",
    "            coords[i, j] = depth_K_inv.dot([j, i , 1]) * depth_img[i, j] / 1000.\n",
    "    return coords"
   ]
  },
  {
   "cell_type": "code",
   "execution_count": 12,
   "metadata": {},
   "outputs": [
    {
     "output_type": "execute_result",
     "data": {
      "text/plain": [
       "255"
      ]
     },
     "metadata": {},
     "execution_count": 12
    }
   ],
   "source": [
    "sample_ind = 0\n",
    "# rgb_sample = rgb_by_id(sample_ind)\n",
    "# xyz_sample = depth2xyz_img(depth_by_id(sample_ind))\n",
    "xyz_sample = depth2xyz_img(load_depth_sample())\n",
    "xyz_sample /= np.max(xyz_sample)\n",
    "cv2.imshow(\"sample\", xyz_sample)\n",
    "cv2.waitKey(50)"
   ]
  },
  {
   "cell_type": "code",
   "execution_count": 13,
   "metadata": {},
   "outputs": [
    {
     "output_type": "stream",
     "name": "stdout",
     "text": [
      "Calculated num of iterations: 31\n"
     ]
    },
    {
     "output_type": "execute_result",
     "data": {
      "text/plain": [
       "True"
      ]
     },
     "metadata": {},
     "execution_count": 13
    },
    {
     "output_type": "display_data",
     "data": {
      "image/png": "[encoded data removed]",
      "text/plain": "<matplotlib.figure.Figure at 0x7f6cd072bed0>",
      "image/svg+xml": "<?xml version=\"1.0\" encoding=\"utf-8\" standalone=\"no\"?>\n<!DOCTYPE svg PUBLIC \"-//W3C//DTD SVG 1.1//EN\"\n  \"http://www.w3.org/Graphics/SVG/1.1/DTD/svg11.dtd\">\n<!-- Created with matplotlib (http://matplotlib.org/) -->\n<svg height=\"222pt\" version=\"1.1\" viewBox=\"0 0 378 222\" width=\"378pt\" xmlns=\"http://www.w3.org/2000/svg\" xmlns:xlink=\"http://www.w3.org/1999/xlink\">\n <defs>\n  <style type=\"text/css\">\n*{stroke-linecap:butt;stroke-linejoin:round;}\n  </style>\n </defs>\n <g id=\"figure_1\">\n  <g id=\"patch_1\">\n   <path d=\"M 0 222.940781 \nL 378.7875 222.940781 \nL 378.7875 0 \nL 0 0 \nz\n\" style=\"fill:none;\"/>\n  </g>\n  <g id=\"axes_1\">\n   <g id=\"patch_2\">\n    <path d=\"M 33.2875 199.062656 \nL 368.0875 199.062656 \nL 368.0875 10.737656 \nL 33.2875 10.737656 \nz\n\" style=\"fill:#ffffff;\"/>\n   </g>\n   <g clip-path=\"url(#p4b7d896c1d)\">\n    <image height=\"189\" id=\"imagefbd92acf9d\" transform=\"scale(1 -1)translate(0 -189)\" width=\"335\" x=\"33.2875\" xlink:href=\"data:image/png;base64,\niVBORw0KGgoAAAANSUhEUgAAAU8AAAC9CAYAAAAz4P9UAAAABHNCSVQICAgIfAhkiAAABDpJREFUeJzt3MttG1kURVFKcBQeOwAH0YAT6GSVhaKQozDcA00EN2VRm/V7r9aKgGCdu1EUYD/8+vnt9wWAT3nc+wMAjEg8AQLxBAjEEyAQT4BAPAEC8QQIxBMgEE+AQDwBAvEECMQTIBBPgEA8AQLxBAjEEyAQT4BAPAEC8QQIxBMgEE+AQDwBAvEECMQTIBBPgEA8AQLxBAjEEyAQT4BAPAEC8QQIxBMgEE+AQDwBAvEECMQTIBBPgEA8AQLxBAjEEyAQT4BAPAEC8QQIxBMgEE+AQDwBAvEECMQTIBBPgEA8AQLxBAjEEyAQT4BAPAEC8QQIxBMgEE+A4MveH2AEP75+3/sjwKaeXp73/giH583zBobEmdj7bR5+/fz2e+8PMRJvocxMOG8nnoGAMhvR/DzxvIOIMgPhbPzN8w5Gx+hsuBPPOxkfo7Ld+/jZvhA/4RmFaC5DPBcmohyZcC7Hz/aFGSdHZZvL8ua5Em+gHIVorkM8Vyai7Ek41+Nn+8qMl73Y3rq8eW7IWyhbEM1tPDro7Rg1a3p6ebaxjfz4+v31v6R7G1Bf/rqeXp69gcKg3t7uwz8P/374s11QlyegLMV9ruOjG70pntd4YPcTUO7lDu9X7zDH8xoPshFRCvf2eUve2qLxfI+H/DEB5Vbu6TZr39Qm8bzGAP5PQPmIu7luj9vZLZ7XGMYrEeVPbuPVkW7jUPG85syjOdJQ2I8bOKbDx/OaM43pyONhfbZ+XEPG85qZRzbaqLifPR/fNPG8ZrYBzjI6/m6m3c682S97f4A1+WenjGaGnc4czLemfvP8yKhDPcs4z2bEPZ55i6eO53tGGPGZRzubEfZ2udjcn8TzBkcdtzGPz7bGJZ53OMrwDX08R9nO5WI/lXgubM+jcARjsJE5iOcGtjwWx3FstjAP8dzJmkfkaI7H856PeB7I0gfmqI5hyefqmR6HeA7gnuNzbPvy7OYlngOph+gI91Gel2c1DvEc3K0H6ii35bnMTzwn9LfDdazreu+7973PRzxP4u1RO+Tl+X7PRzwBgse9PwDAiMQTIBBPgEA8AQLxBAjEEyAQT4BAPAEC8QQIxBMgEE+AQDwBAvEECMQTIBBPgEA8AQLxBAjEEyAQT4BAPAEC8QQIxBMgEE+AQDwBAvEECMQTIBBPgEA8AQLxBAjEEyAQT4BAPAEC8QQIxBMgEE+AQDwBAvEECMQTIBBPgEA8AQLxBAjEEyAQT4BAPAEC8QQIxBMgEE+AQDwBAvEECMQTIBBPgEA8AQLxBAjEEyAQT4BAPAEC8QQIxBMgEE+AQDwBAvEECMQTIBBPgEA8AQLxBAjEEyAQT4BAPAEC8QQIxBMgEE+AQDwBAvEECMQTIBBPgEA8AQLxBAjEEyAQT4BAPAEC8QQIxBMgEE+AQDwBAvEECMQTIBBPgEA8AQLxBAjEEyD4D++jFUSFKR1JAAAAAElFTkSuQmCC\" y=\"-10.062656\"/>\n   </g>\n   <g id=\"matplotlib.axis_1\">\n    <g id=\"xtick_1\">\n     <g id=\"line2d_1\">\n      <defs>\n       <path d=\"M 0 0 \nL 0 3.5 \n\" id=\"ma22f6b1e86\" style=\"stroke:#000000;stroke-width:0.8;\"/>\n      </defs>\n      <g>\n       <use style=\"stroke:#000000;stroke-width:0.8;\" x=\"33.549063\" xlink:href=\"#ma22f6b1e86\" y=\"199.062656\"/>\n      </g>\n     </g>\n     <g id=\"text_1\">\n      <!-- 0 -->\n      <defs>\n       <path d=\"M 31.78125 66.40625 \nQ 24.171875 66.40625 20.328125 58.90625 \nQ 16.5 51.421875 16.5 36.375 \nQ 16.5 21.390625 20.328125 13.890625 \nQ 24.171875 6.390625 31.78125 6.390625 \nQ 39.453125 6.390625 43.28125 13.890625 \nQ 47.125 21.390625 47.125 36.375 \nQ 47.125 51.421875 43.28125 58.90625 \nQ 39.453125 66.40625 31.78125 66.40625 \nz\nM 31.78125 74.21875 \nQ 44.046875 74.21875 50.515625 64.515625 \nQ 56.984375 54.828125 56.984375 36.375 \nQ 56.984375 17.96875 50.515625 8.265625 \nQ 44.046875 -1.421875 31.78125 -1.421875 \nQ 19.53125 -1.421875 13.0625 8.265625 \nQ 6.59375 17.96875 6.59375 36.375 \nQ 6.59375 54.828125 13.0625 64.515625 \nQ 19.53125 74.21875 31.78125 74.21875 \nz\n\" id=\"DejaVuSans-30\"/>\n      </defs>\n      <g transform=\"translate(30.367813 213.661094)scale(0.1 -0.1)\">\n       <use xlink:href=\"#DejaVuSans-30\"/>\n      </g>\n     </g>\n    </g>\n    <g id=\"xtick_2\">\n     <g id=\"line2d_2\">\n      <g>\n       <use style=\"stroke:#000000;stroke-width:0.8;\" x=\"85.861563\" xlink:href=\"#ma22f6b1e86\" y=\"199.062656\"/>\n      </g>\n     </g>\n     <g id=\"text_2\">\n      <!-- 100 -->\n      <defs>\n       <path d=\"M 12.40625 8.296875 \nL 28.515625 8.296875 \nL 28.515625 63.921875 \nL 10.984375 60.40625 \nL 10.984375 69.390625 \nL 28.421875 72.90625 \nL 38.28125 72.90625 \nL 38.28125 8.296875 \nL 54.390625 8.296875 \nL 54.390625 0 \nL 12.40625 0 \nz\n\" id=\"DejaVuSans-31\"/>\n      </defs>\n      <g transform=\"translate(76.317813 213.661094)scale(0.1 -0.1)\">\n       <use xlink:href=\"#DejaVuSans-31\"/>\n       <use x=\"63.623047\" xlink:href=\"#DejaVuSans-30\"/>\n       <use x=\"127.246094\" xlink:href=\"#DejaVuSans-30\"/>\n      </g>\n     </g>\n    </g>\n    <g id=\"xtick_3\">\n     <g id=\"line2d_3\">\n      <g>\n       <use style=\"stroke:#000000;stroke-width:0.8;\" x=\"138.174063\" xlink:href=\"#ma22f6b1e86\" y=\"199.062656\"/>\n      </g>\n     </g>\n     <g id=\"text_3\">\n      <!-- 200 -->\n      <defs>\n       <path d=\"M 19.1875 8.296875 \nL 53.609375 8.296875 \nL 53.609375 0 \nL 7.328125 0 \nL 7.328125 8.296875 \nQ 12.9375 14.109375 22.625 23.890625 \nQ 32.328125 33.6875 34.8125 36.53125 \nQ 39.546875 41.84375 41.421875 45.53125 \nQ 43.3125 49.21875 43.3125 52.78125 \nQ 43.3125 58.59375 39.234375 62.25 \nQ 35.15625 65.921875 28.609375 65.921875 \nQ 23.96875 65.921875 18.8125 64.3125 \nQ 13.671875 62.703125 7.8125 59.421875 \nL 7.8125 69.390625 \nQ 13.765625 71.78125 18.9375 73 \nQ 24.125 74.21875 28.421875 74.21875 \nQ 39.75 74.21875 46.484375 68.546875 \nQ 53.21875 62.890625 53.21875 53.421875 \nQ 53.21875 48.921875 51.53125 44.890625 \nQ 49.859375 40.875 45.40625 35.40625 \nQ 44.1875 33.984375 37.640625 27.21875 \nQ 31.109375 20.453125 19.1875 8.296875 \nz\n\" id=\"DejaVuSans-32\"/>\n      </defs>\n      <g transform=\"translate(128.630313 213.661094)scale(0.1 -0.1)\">\n       <use xlink:href=\"#DejaVuSans-32\"/>\n       <use x=\"63.623047\" xlink:href=\"#DejaVuSans-30\"/>\n       <use x=\"127.246094\" xlink:href=\"#DejaVuSans-30\"/>\n      </g>\n     </g>\n    </g>\n    <g id=\"xtick_4\">\n     <g id=\"line2d_4\">\n      <g>\n       <use style=\"stroke:#000000;stroke-width:0.8;\" x=\"190.486563\" xlink:href=\"#ma22f6b1e86\" y=\"199.062656\"/>\n      </g>\n     </g>\n     <g id=\"text_4\">\n      <!-- 300 -->\n      <defs>\n       <path d=\"M 40.578125 39.3125 \nQ 47.65625 37.796875 51.625 33 \nQ 55.609375 28.21875 55.609375 21.1875 \nQ 55.609375 10.40625 48.1875 4.484375 \nQ 40.765625 -1.421875 27.09375 -1.421875 \nQ 22.515625 -1.421875 17.65625 -0.515625 \nQ 12.796875 0.390625 7.625 2.203125 \nL 7.625 11.71875 \nQ 11.71875 9.328125 16.59375 8.109375 \nQ 21.484375 6.890625 26.8125 6.890625 \nQ 36.078125 6.890625 40.9375 10.546875 \nQ 45.796875 14.203125 45.796875 21.1875 \nQ 45.796875 27.640625 41.28125 31.265625 \nQ 36.765625 34.90625 28.71875 34.90625 \nL 20.21875 34.90625 \nL 20.21875 43.015625 \nL 29.109375 43.015625 \nQ 36.375 43.015625 40.234375 45.921875 \nQ 44.09375 48.828125 44.09375 54.296875 \nQ 44.09375 59.90625 40.109375 62.90625 \nQ 36.140625 65.921875 28.71875 65.921875 \nQ 24.65625 65.921875 20.015625 65.03125 \nQ 15.375 64.15625 9.8125 62.3125 \nL 9.8125 71.09375 \nQ 15.4375 72.65625 20.34375 73.4375 \nQ 25.25 74.21875 29.59375 74.21875 \nQ 40.828125 74.21875 47.359375 69.109375 \nQ 53.90625 64.015625 53.90625 55.328125 \nQ 53.90625 49.265625 50.4375 45.09375 \nQ 46.96875 40.921875 40.578125 39.3125 \nz\n\" id=\"DejaVuSans-33\"/>\n      </defs>\n      <g transform=\"translate(180.942813 213.661094)scale(0.1 -0.1)\">\n       <use xlink:href=\"#DejaVuSans-33\"/>\n       <use x=\"63.623047\" xlink:href=\"#DejaVuSans-30\"/>\n       <use x=\"127.246094\" xlink:href=\"#DejaVuSans-30\"/>\n      </g>\n     </g>\n    </g>\n    <g id=\"xtick_5\">\n     <g id=\"line2d_5\">\n      <g>\n       <use style=\"stroke:#000000;stroke-width:0.8;\" x=\"242.799063\" xlink:href=\"#ma22f6b1e86\" y=\"199.062656\"/>\n      </g>\n     </g>\n     <g id=\"text_5\">\n      <!-- 400 -->\n      <defs>\n       <path d=\"M 37.796875 64.3125 \nL 12.890625 25.390625 \nL 37.796875 25.390625 \nz\nM 35.203125 72.90625 \nL 47.609375 72.90625 \nL 47.609375 25.390625 \nL 58.015625 25.390625 \nL 58.015625 17.1875 \nL 47.609375 17.1875 \nL 47.609375 0 \nL 37.796875 0 \nL 37.796875 17.1875 \nL 4.890625 17.1875 \nL 4.890625 26.703125 \nz\n\" id=\"DejaVuSans-34\"/>\n      </defs>\n      <g transform=\"translate(233.255313 213.661094)scale(0.1 -0.1)\">\n       <use xlink:href=\"#DejaVuSans-34\"/>\n       <use x=\"63.623047\" xlink:href=\"#DejaVuSans-30\"/>\n       <use x=\"127.246094\" xlink:href=\"#DejaVuSans-30\"/>\n      </g>\n     </g>\n    </g>\n    <g id=\"xtick_6\">\n     <g id=\"line2d_6\">\n      <g>\n       <use style=\"stroke:#000000;stroke-width:0.8;\" x=\"295.111563\" xlink:href=\"#ma22f6b1e86\" y=\"199.062656\"/>\n      </g>\n     </g>\n     <g id=\"text_6\">\n      <!-- 500 -->\n      <defs>\n       <path d=\"M 10.796875 72.90625 \nL 49.515625 72.90625 \nL 49.515625 64.59375 \nL 19.828125 64.59375 \nL 19.828125 46.734375 \nQ 21.96875 47.46875 24.109375 47.828125 \nQ 26.265625 48.1875 28.421875 48.1875 \nQ 40.625 48.1875 47.75 41.5 \nQ 54.890625 34.8125 54.890625 23.390625 \nQ 54.890625 11.625 47.5625 5.09375 \nQ 40.234375 -1.421875 26.90625 -1.421875 \nQ 22.3125 -1.421875 17.546875 -0.640625 \nQ 12.796875 0.140625 7.71875 1.703125 \nL 7.71875 11.625 \nQ 12.109375 9.234375 16.796875 8.0625 \nQ 21.484375 6.890625 26.703125 6.890625 \nQ 35.15625 6.890625 40.078125 11.328125 \nQ 45.015625 15.765625 45.015625 23.390625 \nQ 45.015625 31 40.078125 35.4375 \nQ 35.15625 39.890625 26.703125 39.890625 \nQ 22.75 39.890625 18.8125 39.015625 \nQ 14.890625 38.140625 10.796875 36.28125 \nz\n\" id=\"DejaVuSans-35\"/>\n      </defs>\n      <g transform=\"translate(285.567813 213.661094)scale(0.1 -0.1)\">\n       <use xlink:href=\"#DejaVuSans-35\"/>\n       <use x=\"63.623047\" xlink:href=\"#DejaVuSans-30\"/>\n       <use x=\"127.246094\" xlink:href=\"#DejaVuSans-30\"/>\n      </g>\n     </g>\n    </g>\n    <g id=\"xtick_7\">\n     <g id=\"line2d_7\">\n      <g>\n       <use style=\"stroke:#000000;stroke-width:0.8;\" x=\"347.424063\" xlink:href=\"#ma22f6b1e86\" y=\"199.062656\"/>\n      </g>\n     </g>\n     <g id=\"text_7\">\n      <!-- 600 -->\n      <defs>\n       <path d=\"M 33.015625 40.375 \nQ 26.375 40.375 22.484375 35.828125 \nQ 18.609375 31.296875 18.609375 23.390625 \nQ 18.609375 15.53125 22.484375 10.953125 \nQ 26.375 6.390625 33.015625 6.390625 \nQ 39.65625 6.390625 43.53125 10.953125 \nQ 47.40625 15.53125 47.40625 23.390625 \nQ 47.40625 31.296875 43.53125 35.828125 \nQ 39.65625 40.375 33.015625 40.375 \nz\nM 52.59375 71.296875 \nL 52.59375 62.3125 \nQ 48.875 64.0625 45.09375 64.984375 \nQ 41.3125 65.921875 37.59375 65.921875 \nQ 27.828125 65.921875 22.671875 59.328125 \nQ 17.53125 52.734375 16.796875 39.40625 \nQ 19.671875 43.65625 24.015625 45.921875 \nQ 28.375 48.1875 33.59375 48.1875 \nQ 44.578125 48.1875 50.953125 41.515625 \nQ 57.328125 34.859375 57.328125 23.390625 \nQ 57.328125 12.15625 50.6875 5.359375 \nQ 44.046875 -1.421875 33.015625 -1.421875 \nQ 20.359375 -1.421875 13.671875 8.265625 \nQ 6.984375 17.96875 6.984375 36.375 \nQ 6.984375 53.65625 15.1875 63.9375 \nQ 23.390625 74.21875 37.203125 74.21875 \nQ 40.921875 74.21875 44.703125 73.484375 \nQ 48.484375 72.75 52.59375 71.296875 \nz\n\" id=\"DejaVuSans-36\"/>\n      </defs>\n      <g transform=\"translate(337.880313 213.661094)scale(0.1 -0.1)\">\n       <use xlink:href=\"#DejaVuSans-36\"/>\n       <use x=\"63.623047\" xlink:href=\"#DejaVuSans-30\"/>\n       <use x=\"127.246094\" xlink:href=\"#DejaVuSans-30\"/>\n      </g>\n     </g>\n    </g>\n   </g>\n   <g id=\"matplotlib.axis_2\">\n    <g id=\"ytick_1\">\n     <g id=\"line2d_8\">\n      <defs>\n       <path d=\"M 0 0 \nL -3.5 0 \n\" id=\"m49d13bf210\" style=\"stroke:#000000;stroke-width:0.8;\"/>\n      </defs>\n      <g>\n       <use style=\"stroke:#000000;stroke-width:0.8;\" x=\"33.2875\" xlink:href=\"#m49d13bf210\" y=\"10.999219\"/>\n      </g>\n     </g>\n     <g id=\"text_8\">\n      <!-- 0 -->\n      <g transform=\"translate(19.925 14.798438)scale(0.1 -0.1)\">\n       <use xlink:href=\"#DejaVuSans-30\"/>\n      </g>\n     </g>\n    </g>\n    <g id=\"ytick_2\">\n     <g id=\"line2d_9\">\n      <g>\n       <use style=\"stroke:#000000;stroke-width:0.8;\" x=\"33.2875\" xlink:href=\"#m49d13bf210\" y=\"37.155469\"/>\n      </g>\n     </g>\n     <g id=\"text_9\">\n      <!-- 50 -->\n      <g transform=\"translate(13.5625 40.954688)scale(0.1 -0.1)\">\n       <use xlink:href=\"#DejaVuSans-35\"/>\n       <use x=\"63.623047\" xlink:href=\"#DejaVuSans-30\"/>\n      </g>\n     </g>\n    </g>\n    <g id=\"ytick_3\">\n     <g id=\"line2d_10\">\n      <g>\n       <use style=\"stroke:#000000;stroke-width:0.8;\" x=\"33.2875\" xlink:href=\"#m49d13bf210\" y=\"63.311719\"/>\n      </g>\n     </g>\n     <g id=\"text_10\">\n      <!-- 100 -->\n      <g transform=\"translate(7.2 67.110938)scale(0.1 -0.1)\">\n       <use xlink:href=\"#DejaVuSans-31\"/>\n       <use x=\"63.623047\" xlink:href=\"#DejaVuSans-30\"/>\n       <use x=\"127.246094\" xlink:href=\"#DejaVuSans-30\"/>\n      </g>\n     </g>\n    </g>\n    <g id=\"ytick_4\">\n     <g id=\"line2d_11\">\n      <g>\n       <use style=\"stroke:#000000;stroke-width:0.8;\" x=\"33.2875\" xlink:href=\"#m49d13bf210\" y=\"89.467969\"/>\n      </g>\n     </g>\n     <g id=\"text_11\">\n      <!-- 150 -->\n      <g transform=\"translate(7.2 93.267188)scale(0.1 -0.1)\">\n       <use xlink:href=\"#DejaVuSans-31\"/>\n       <use x=\"63.623047\" xlink:href=\"#DejaVuSans-35\"/>\n       <use x=\"127.246094\" xlink:href=\"#DejaVuSans-30\"/>\n      </g>\n     </g>\n    </g>\n    <g id=\"ytick_5\">\n     <g id=\"line2d_12\">\n      <g>\n       <use style=\"stroke:#000000;stroke-width:0.8;\" x=\"33.2875\" xlink:href=\"#m49d13bf210\" y=\"115.624219\"/>\n      </g>\n     </g>\n     <g id=\"text_12\">\n      <!-- 200 -->\n      <g transform=\"translate(7.2 119.423438)scale(0.1 -0.1)\">\n       <use xlink:href=\"#DejaVuSans-32\"/>\n       <use x=\"63.623047\" xlink:href=\"#DejaVuSans-30\"/>\n       <use x=\"127.246094\" xlink:href=\"#DejaVuSans-30\"/>\n      </g>\n     </g>\n    </g>\n    <g id=\"ytick_6\">\n     <g id=\"line2d_13\">\n      <g>\n       <use style=\"stroke:#000000;stroke-width:0.8;\" x=\"33.2875\" xlink:href=\"#m49d13bf210\" y=\"141.780469\"/>\n      </g>\n     </g>\n     <g id=\"text_13\">\n      <!-- 250 -->\n      <g transform=\"translate(7.2 145.579688)scale(0.1 -0.1)\">\n       <use xlink:href=\"#DejaVuSans-32\"/>\n       <use x=\"63.623047\" xlink:href=\"#DejaVuSans-35\"/>\n       <use x=\"127.246094\" xlink:href=\"#DejaVuSans-30\"/>\n      </g>\n     </g>\n    </g>\n    <g id=\"ytick_7\">\n     <g id=\"line2d_14\">\n      <g>\n       <use style=\"stroke:#000000;stroke-width:0.8;\" x=\"33.2875\" xlink:href=\"#m49d13bf210\" y=\"167.936719\"/>\n      </g>\n     </g>\n     <g id=\"text_14\">\n      <!-- 300 -->\n      <g transform=\"translate(7.2 171.735938)scale(0.1 -0.1)\">\n       <use xlink:href=\"#DejaVuSans-33\"/>\n       <use x=\"63.623047\" xlink:href=\"#DejaVuSans-30\"/>\n       <use x=\"127.246094\" xlink:href=\"#DejaVuSans-30\"/>\n      </g>\n     </g>\n    </g>\n    <g id=\"ytick_8\">\n     <g id=\"line2d_15\">\n      <g>\n       <use style=\"stroke:#000000;stroke-width:0.8;\" x=\"33.2875\" xlink:href=\"#m49d13bf210\" y=\"194.092969\"/>\n      </g>\n     </g>\n     <g id=\"text_15\">\n      <!-- 350 -->\n      <g transform=\"translate(7.2 197.892188)scale(0.1 -0.1)\">\n       <use xlink:href=\"#DejaVuSans-33\"/>\n       <use x=\"63.623047\" xlink:href=\"#DejaVuSans-35\"/>\n       <use x=\"127.246094\" xlink:href=\"#DejaVuSans-30\"/>\n      </g>\n     </g>\n    </g>\n   </g>\n   <g id=\"patch_3\">\n    <path d=\"M 33.2875 199.062656 \nL 33.2875 10.737656 \n\" style=\"fill:none;stroke:#000000;stroke-linecap:square;stroke-linejoin:miter;stroke-width:0.8;\"/>\n   </g>\n   <g id=\"patch_4\">\n    <path d=\"M 368.0875 199.062656 \nL 368.0875 10.737656 \n\" style=\"fill:none;stroke:#000000;stroke-linecap:square;stroke-linejoin:miter;stroke-width:0.8;\"/>\n   </g>\n   <g id=\"patch_5\">\n    <path d=\"M 33.2875 199.062656 \nL 368.0875 199.062656 \n\" style=\"fill:none;stroke:#000000;stroke-linecap:square;stroke-linejoin:miter;stroke-width:0.8;\"/>\n   </g>\n   <g id=\"patch_6\">\n    <path d=\"M 33.2875 10.737656 \nL 368.0875 10.737656 \n\" style=\"fill:none;stroke:#000000;stroke-linecap:square;stroke-linejoin:miter;stroke-width:0.8;\"/>\n   </g>\n  </g>\n </g>\n <defs>\n  <clipPath id=\"p4b7d896c1d\">\n   <rect height=\"188.325\" width=\"334.8\" x=\"33.2875\" y=\"10.737656\"/>\n  </clipPath>\n </defs>\n</svg>\n"
     },
     "metadata": {
      "needs_background": "light"
     }
    }
   ],
   "source": [
    "params = RANSAC_Params\n",
    "params.good_point_threshold = 6e-5\n",
    "extractor = RANSAC_RoadExtractor(params)\n",
    "sample_coefs, sample_mask = extractor.estimate_road_plane(xyz_sample)\n",
    "plt.imshow(sample_mask)\n",
    "cv2.imwrite(\"../Data/RANSAC_mask.png\", sample_mask * 255)"
   ]
  },
  {
   "cell_type": "code",
   "execution_count": 14,
   "metadata": {},
   "outputs": [],
   "source": [
    "# def merge_rgb_n_mask(rgb_img, mask):\n",
    "#     convex_sum_coef = 0.4\n",
    "#     merge_mask = cv2.resize(mask, (rgb_img.shape[1], rgb_img.shape[0])) * convex_sum_coef\n",
    "#     merged = rgb_img / 255. *  (1 - convex_sum_coef)\n",
    "#     merged[:,:,1] += merge_mask\n",
    "#     return merged"
   ]
  },
  {
   "cell_type": "code",
   "execution_count": 15,
   "metadata": {},
   "outputs": [],
   "source": [
    "# plt.imshow(merge_rgb_n_mask(rgb_sample, sample_mask))"
   ]
  },
  {
   "cell_type": "code",
   "execution_count": null,
   "metadata": {},
   "outputs": [],
   "source": []
  }
 ],
 "metadata": {
  "kernelspec": {
   "display_name": "Python 2.7.17 64-bit",
   "language": "python",
   "name": "python271764bitb1bcb2cc2f7045cb88c0eacf44ecafe3"
  },
  "language_info": {
   "codemirror_mode": {
    "name": "ipython",
    "version": 2
   },
   "file_extension": ".py",
   "mimetype": "text/x-python",
   "name": "python",
   "nbconvert_exporter": "python",
   "pygments_lexer": "ipython2",
   "version": "2.7.17"
  },
  "latex_envs": {
   "LaTeX_envs_menu_present": true,
   "autoclose": false,
   "autocomplete": true,
   "bibliofile": "biblio.bib",
   "cite_by": "apalike",
   "current_citInitial": 1,
   "eqLabelWithNumbers": true,
   "eqNumInitial": 1,
   "hotkeys": {
    "equation": "Ctrl-E",
    "itemize": "Ctrl-I"
   },
   "labels_anchors": false,
   "latex_user_defs": false,
   "report_style_numbering": false,
   "user_envs_cfg": false
  },
  "toc": {
   "base_numbering": 1,
   "nav_menu": {},
   "number_sections": false,
   "sideBar": true,
   "skip_h1_title": true,
   "title_cell": "Table of Contents",
   "title_sidebar": "Contents",
   "toc_cell": true,
   "toc_position": {},
   "toc_section_display": true,
   "toc_window_display": false
  }
 },
 "nbformat": 4,
 "nbformat_minor": 4
}