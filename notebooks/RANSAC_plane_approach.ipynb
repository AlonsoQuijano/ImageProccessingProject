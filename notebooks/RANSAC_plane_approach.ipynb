{
 "cells": [
  {
   "cell_type": "markdown",
   "metadata": {
    "toc": true
   },
   "source": [
    "<h1>Table of Contents<span class=\"tocSkip\"></span></h1>\n",
    "<div class=\"toc\"><ul class=\"toc-item\"></ul></div>"
   ]
  },
  {
   "cell_type": "code",
   "execution_count": 1,
   "metadata": {},
   "outputs": [],
   "source": [
    "# import rosbag\n",
    "import numpy as np \n",
    "import matplotlib.pyplot as plt\n",
    "# from cv_bridge import CvBridge, CvBridgeError\n",
    "# import sensor_msgs.point_cloud2 as pc2\n",
    "\n",
    "import cv2"
   ]
  },
  {
   "cell_type": "code",
   "execution_count": 2,
   "metadata": {},
   "outputs": [],
   "source": [
    "# bag = rosbag.Bag(\"/mnt/Garage/Data/2020-02-26-15-27-06_0.bag\")"
   ]
  },
  {
   "cell_type": "code",
   "execution_count": 3,
   "metadata": {},
   "outputs": [],
   "source": [
    "# depth_img_msgs = np.array([msg for topic, msg, t in bag.read_messages(topics=['/vision/zed/front/depth/image/compressedDepth'])])\n",
    "# depth_cam_info_msgs = [msg for topic, msg, t in bag.read_messages(topics=['/vision/zed/front/depth/camera_info'])][0]\n",
    "\n",
    "# rgb_img_msgs = np.array([msg for topic, msg, t in bag.read_messages(topics=['/vision/zed/front/rgb/image/compressed'])])\n",
    "# rgb_cam_info_msgs = [msg for topic, msg, t in bag.read_messages(topics=['/vision/zed/front/rgb/camera_info'])][0]\n",
    "\n",
    "# #one rgb image has no depth match\n",
    "# rgb_img_msgs = rgb_img_msgs[:-1]"
   ]
  },
  {
   "cell_type": "code",
   "execution_count": 4,
   "metadata": {},
   "outputs": [],
   "source": [
    "# def depth_by_id(img_id):\n",
    "#     bridge = CvBridge()\n",
    "#     return bridge.imgmsg_to_cv2(depth_img_msgs[img_id], \"mono16\")\n",
    "\n",
    "# def rgb_by_id(img_id):\n",
    "#     bridge = CvBridge()\n",
    "#     return bridge.compressed_imgmsg_to_cv2(rgb_img_msgs[img_id], \"bgr8\")[:,:,::-1]"
   ]
  },
  {
   "cell_type": "code",
   "execution_count": 5,
   "metadata": {},
   "outputs": [],
   "source": [
    "def load_depth_sample():\n",
    "    return cv2.imread(\"../Data/depth_sample.png\", cv2.IMREAD_ANYDEPTH)"
   ]
  },
  {
   "cell_type": "code",
   "execution_count": 6,
   "metadata": {},
   "outputs": [
    {
     "data": {
      "image/png": "[encoded data removed]",
      "text/plain": [
       "<matplotlib.figure.Figure at 0x7f6871cc5250>"
      ]
     },
     "metadata": {
      "needs_background": "light"
     },
     "output_type": "display_data"
    }
   ],
   "source": [
    "img = load_depth_sample()\n",
    "plt.imshow(img)\n",
    "assert(np.max(img) > 255)"
   ]
  },
  {
   "cell_type": "code",
   "execution_count": 7,
   "metadata": {},
   "outputs": [],
   "source": [
    "# raw_data = depth_img_msgs[20].data[12:]\n",
    "# img = cv2.imdecode(np.fromstring(raw_data, np.uint8), cv2.IMREAD_UNCHANGED)\n",
    "# plt.imshow(img)"
   ]
  },
  {
   "cell_type": "code",
   "execution_count": 8,
   "metadata": {
    "scrolled": true
   },
   "outputs": [],
   "source": [
    "# plt.imshow(depth_by_id(0))"
   ]
  },
  {
   "cell_type": "code",
   "execution_count": 9,
   "metadata": {},
   "outputs": [],
   "source": [
    "# plt.imshow(rgb_by_id(0))"
   ]
  },
  {
   "cell_type": "code",
   "execution_count": 10,
   "metadata": {},
   "outputs": [
    {
     "data": {
      "text/plain": [
       "array([[400.,   0., 960.],\n",
       "       [  0., 400., 540.],\n",
       "       [  0.,   0.,   1.]])"
      ]
     },
     "execution_count": 10,
     "metadata": {},
     "output_type": "execute_result"
    }
   ],
   "source": [
    "depth_K = np.loadtxt(\"../Data/K\")\n",
    "depth_K_inv = np.linalg.inv(depth_K)\n",
    "# rgb_K = np.array(rgb_cam_info_msgs.K).reshape((3, 3))\n",
    "# depth2bgr_scale  = rgb_K[0, 0] / depth_K[0, 0]\n",
    "depth_K"
   ]
  },
  {
   "cell_type": "markdown",
   "metadata": {},
   "source": [
    "# RANSAC implementation"
   ]
  },
  {
   "cell_type": "code",
   "execution_count": 11,
   "metadata": {},
   "outputs": [],
   "source": [
    "class RANSAC_Params:\n",
    "    target_good_estimation_prob = 0.999\n",
    "    all_inliers_chosen_prob = 0.2\n",
    "    good_point_threshold = 3e-3\n",
    "        \n",
    "class RANSAC_RoadExtractor:\n",
    "    _params = RANSAC_Params\n",
    "    _num_iters = 1\n",
    "    \n",
    "    def __init__(self, params):\n",
    "        np.random.seed(21)\n",
    "        self.set_params(params)\n",
    "        \n",
    "    def estimate_road_plane(self, point_img):\n",
    "        points, indexes = self._prepare_points_list(point_img)\n",
    "        hypotheses = self._prepare_hypoteses(points)\n",
    "        best_hypothesis, best_inliers = self._choose_best_hypothesis(hypotheses, points)\n",
    "        mask = self._prepare_mask(point_img.shape, indexes, best_inliers)\n",
    "        return best_hypothesis, mask\n",
    "        \n",
    "    def set_params(self, params):\n",
    "        self._params.target_good_estimation_prob = params.target_good_estimation_prob\n",
    "        self._params.all_inliers_chosen_prob = params.all_inliers_chosen_prob\n",
    "        self._params.good_point_threshold = params.good_point_threshold\n",
    "        self._calc_num_iterations()\n",
    "        \n",
    "    def _calc_num_iterations(self):\n",
    "        self._num_iters = int(np.ceil(np.log(1 - self._params.target_good_estimation_prob) / \\\n",
    "                                      np.log(1 - self._params.all_inliers_chosen_prob)))\n",
    "        print (\"Calculated num of iterations: \" + str(self._num_iters))\n",
    "        \n",
    "    def _prepare_hypoteses(self, points):\n",
    "        plane_coefs = []\n",
    "        random_inds = np.random.choice(len(points), (self._num_iters, 3))\n",
    "        for i in range(self._num_iters):\n",
    "            i1, i2, i3 = random_inds[i]\n",
    "            if (i1 == i2) or (i1 == i3) or (i2 == i3):\n",
    "                continue\n",
    "            p1 = points[i1]\n",
    "            p2 = points[i2]\n",
    "            p3 = points[i3]\n",
    "            plane_coefs.append(self._calc_plane_coefs(p1, p2, p3))\n",
    "        return plane_coefs\n",
    "    \n",
    "    def _calc_plane_coefs(self, p1, p2, p3):\n",
    "        d1 = p3 - p1\n",
    "        d2 = p2 - p1\n",
    "        norm_vec = np.cross(d1, d2)\n",
    "        norm_vec /= np.linalg.norm(norm_vec)\n",
    "        shift = np.dot(norm_vec, p1)\n",
    "        return (norm_vec[0], norm_vec[1], norm_vec[2], -shift)\n",
    "    \n",
    "    def _choose_best_hypothesis(self, hypotheses, points):\n",
    "        prepared_points = np.hstack((points, np.ones((len(points), 1), dtype=np.float64)))\n",
    "        errors = (np.array(hypotheses).dot(prepared_points.T))\n",
    "        inliers = np.abs(errors) < self._params.good_point_threshold\n",
    "        inlier_count = np.sum(inliers, axis=1)\n",
    "        assert(len(inlier_count) == len(hypotheses))\n",
    "        best_ind = np.argmax(inlier_count)\n",
    "        best_hypothesis = hypotheses[best_ind]\n",
    "        best_inliers = inliers[best_ind]\n",
    "        return best_hypothesis, best_inliers \n",
    "    \n",
    "    def _prepare_points_list(self, point_img):\n",
    "        points_list = np.array(point_img).reshape(-1, 3)\n",
    "        indexes = np.arange(len(points_list)).reshape(-1, 1)\n",
    "        indexes = np.hstack((indexes // point_img.shape[1], indexes % point_img.shape[1]))\n",
    "        non_zero_points = np.sum(points_list**2, axis=1) > 1e-7\n",
    "        points_list = points_list[non_zero_points]\n",
    "        indexes = indexes[non_zero_points]\n",
    "        return points_list, indexes\n",
    "    \n",
    "    def _prepare_mask(self, img_size, indexes, inliers):\n",
    "        mask = np.zeros(img_size[:2])\n",
    "        indexes = indexes[inliers]\n",
    "        for index in indexes:\n",
    "            mask[index[0], index[1]] = 1\n",
    "        return mask\n",
    "        \n",
    "def depth2xyz_img(depth_img):\n",
    "    coords = np.zeros((depth_img.shape[0], depth_img.shape[1], 3))\n",
    "    for i in range(coords.shape[0]):\n",
    "        for j in range(coords.shape[1]):\n",
    "            coords[i, j] = depth_K_inv.dot([j, i , 1]) * depth_img[i, j] / 1000.\n",
    "    return coords"
   ]
  },
  {
   "cell_type": "code",
   "execution_count": 12,
   "metadata": {},
   "outputs": [
    {
     "data": {
      "text/plain": [
       "255"
      ]
     },
     "execution_count": 12,
     "metadata": {},
     "output_type": "execute_result"
    }
   ],
   "source": [
    "sample_ind = 0\n",
    "# rgb_sample = rgb_by_id(sample_ind)\n",
    "# xyz_sample = depth2xyz_img(depth_by_id(sample_ind))\n",
    "xyz_sample = depth2xyz_img(load_depth_sample())\n",
    "xyz_sample /= np.max(xyz_sample)\n",
    "cv2.imshow(\"sample\", xyz_sample)\n",
    "cv2.waitKey(50)"
   ]
  },
  {
   "cell_type": "code",
   "execution_count": 13,
   "metadata": {},
   "outputs": [
    {
     "name": "stdout",
     "output_type": "stream",
     "text": [
      "Calculated num of iterations: 31\n"
     ]
    },
    {
     "data": {
      "text/plain": [
       "True"
      ]
     },
     "execution_count": 13,
     "metadata": {},
     "output_type": "execute_result"
    },
    {
     "data": {
      "image/png": "[encoded data removed]",
      "text/plain": [
       "<matplotlib.figure.Figure at 0x7f6871d39490>"
      ]
     },
     "metadata": {
      "needs_background": "light"
     },
     "output_type": "display_data"
    }
   ],
   "source": [
    "params = RANSAC_Params\n",
    "params.good_point_threshold = 6e-5\n",
    "extractor = RANSAC_RoadExtractor(params)\n",
    "sample_coefs, sample_mask = extractor.estimate_road_plane(xyz_sample)\n",
    "plt.imshow(sample_mask)\n",
    "cv2.imwrite(\"../Data/RANSAC_mask.png\", sample_mask * 255)"
   ]
  },
  {
   "cell_type": "code",
   "execution_count": 14,
   "metadata": {},
   "outputs": [],
   "source": [
    "# def merge_rgb_n_mask(rgb_img, mask):\n",
    "#     convex_sum_coef = 0.4\n",
    "#     merge_mask = cv2.resize(mask, (rgb_img.shape[1], rgb_img.shape[0])) * convex_sum_coef\n",
    "#     merged = rgb_img / 255. *  (1 - convex_sum_coef)\n",
    "#     merged[:,:,1] += merge_mask\n",
    "#     return merged"
   ]
  },
  {
   "cell_type": "code",
   "execution_count": 15,
   "metadata": {},
   "outputs": [],
   "source": [
    "# plt.imshow(merge_rgb_n_mask(rgb_sample, sample_mask))"
   ]
  },
  {
   "cell_type": "code",
   "execution_count": null,
   "metadata": {},
   "outputs": [],
   "source": []
  }
 ],
 "metadata": {
  "kernelspec": {
   "display_name": "Python 2.7.17 64-bit",
   "language": "python",
   "name": "python271764bitb1bcb2cc2f7045cb88c0eacf44ecafe3"
  },
  "language_info": {
   "codemirror_mode": {
    "name": "ipython",
    "version": 2
   },
   "file_extension": ".py",
   "mimetype": "text/x-python",
   "name": "python",
   "nbconvert_exporter": "python",
   "pygments_lexer": "ipython2",
   "version": "2.7.17"
  },
  "latex_envs": {
   "LaTeX_envs_menu_present": true,
   "autoclose": false,
   "autocomplete": true,
   "bibliofile": "biblio.bib",
   "cite_by": "apalike",
   "current_citInitial": 1,
   "eqLabelWithNumbers": true,
   "eqNumInitial": 1,
   "hotkeys": {
    "equation": "Ctrl-E",
    "itemize": "Ctrl-I"
   },
   "labels_anchors": false,
   "latex_user_defs": false,
   "report_style_numbering": false,
   "user_envs_cfg": false
  },
  "toc": {
   "base_numbering": 1,
   "nav_menu": {},
   "number_sections": false,
   "sideBar": true,
   "skip_h1_title": true,
   "title_cell": "Table of Contents",
   "title_sidebar": "Contents",
   "toc_cell": true,
   "toc_position": {},
   "toc_section_display": true,
   "toc_window_display": false
  }
 },
 "nbformat": 4,
 "nbformat_minor": 4
}
